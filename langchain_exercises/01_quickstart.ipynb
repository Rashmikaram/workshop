{
 "cells": [
  {
   "attachments": {},
   "cell_type": "markdown",
   "metadata": {},
   "source": [
    "# Quickstart\n",
    "\n",
    "This notebook is just to make sure that everything works. Firstly, let's create out .env file.\n",
    "Then update these 2 keys with values that where provided to you in the chat:\n",
    "\n",
    "- OPENAI_API_KEY=xxxxxxxxxxxxxxxxxxxxxxxxxxx\n",
    "- OPENAI_API_BASE=https://handsonoctober.openai.azure.com\n",
    "\n",
    "```\n",
    "cp .envexample .env\n",
    "```"
   ]
  },
  {
   "cell_type": "code",
   "execution_count": 1,
   "metadata": {},
   "outputs": [],
   "source": [
    "#Copy the .envexample file to .env\n",
    "#Dont forget to change OPENAI_API_KEY before running the notebook\n",
    "\n",
    "#!cp ../.envexample ../.env"
   ]
  },
  {
   "cell_type": "code",
   "execution_count": 4,
   "metadata": {},
   "outputs": [
    {
     "name": "stdout",
     "output_type": "stream",
     "text": [
      "Will use the following env data:\n",
      "OPENAI_API_KEY=8158d342aa794004ae7a016cb6e8033a\n",
      "OPENAI_API_BASE=https://handsonoctober.openai.azure.com\n",
      "OPENAI_API_REGION=eastus\n",
      "OPENAI_API_API_TYPE=azure\n",
      "OPENAI_API_VERSION=2022-12-01\n",
      "OPENAI_EMBEDDINGS_API_VERSION=2023-07-01-preview\n",
      "OPENAI_EMBEDDING_MODEL=text-embedding-ada-002\n",
      "OPENAI_COMPLETION_MODEL=gpt-35-turbo\n"
     ]
    }
   ],
   "source": [
    "#General imports and setup\n",
    "\n",
    "import os\n",
    "import tiktoken\n",
    "import openai\n",
    "import numpy as np\n",
    "import pandas as pd\n",
    "from dotenv import load_dotenv\n",
    "\n",
    "# Load environment variables\n",
    "load_dotenv('../.env', override=True)\n",
    "\n",
    "# Option 2 - Using Access Key\n",
    "openai.api_type = \"azure\"\n",
    "openai.api_base = os.environ.get(\"OPENAI_API_BASE\")\n",
    "openai.api_key = os.environ.get(\"OPENAI_API_KEY\")\n",
    "openai.api_version = os.environ.get('OPENAI_API_VERSION', \"2022-12-01\")\n",
    "\n",
    "# Define embedding model and encoding\n",
    "EMBEDDING_MODEL = os.environ.get('OPENAI_EMBEDDING_MODE', 'text-embedding-ada-002')\n",
    "COMPLETION_MODEL = os.environ.get('OPENAI_COMPLETION_MODEL', 'gpt-35-turbo')\n",
    "encoding = tiktoken.get_encoding('cl100k_base')\n",
    "\n",
    "print(\"Will use the following env data:\")\n",
    "for key, value in os.environ.items():\n",
    "    if key.startswith(\"OPENAI\"):\n",
    "        print(f\"{key}={value}\")"
   ]
  },
  {
   "attachments": {},
   "cell_type": "markdown",
   "metadata": {},
   "source": [
    "Test if tokenizer works:"
   ]
  },
  {
   "cell_type": "code",
   "execution_count": 5,
   "metadata": {},
   "outputs": [
    {
     "name": "stdout",
     "output_type": "stream",
     "text": [
      "There are 3 for text prompt: 'Hello world!'\n",
      "[9906, 1917, 0]\n"
     ]
    }
   ],
   "source": [
    "text_to_encode = \"Hello world!\"\n",
    "tokens = encoding.encode(text_to_encode)\n",
    "print(f\"There are {len(tokens)} for text prompt: '{text_to_encode}'\")\n",
    "print(tokens)"
   ]
  },
  {
   "attachments": {},
   "cell_type": "markdown",
   "metadata": {},
   "source": [
    "Test if completitions work:"
   ]
  },
  {
   "cell_type": "code",
   "execution_count": 6,
   "metadata": {},
   "outputs": [
    {
     "name": "stdout",
     "output_type": "stream",
     "text": [
      " Who’s there? Boo. Boo who? Don’t cry, it’s just\n"
     ]
    }
   ],
   "source": [
    "response = openai.Completion.create(engine=\"gpt-35-turbo\",\n",
    "                                    prompt=\"Knock knock.\",\n",
    "                                    temperature=0)\n",
    "print(response.choices[0].text)"
   ]
  },
  {
   "attachments": {},
   "cell_type": "markdown",
   "metadata": {},
   "source": [
    "Do it in a streaming fashion:"
   ]
  },
  {
   "cell_type": "code",
   "execution_count": 5,
   "metadata": {},
   "outputs": [
    {
     "name": "stdout",
     "output_type": "stream",
     "text": [
      ".”\n",
      "\n",
      "This is where you do research. You want to know what the top ice cream shops use as their taglines. Although, you do not want to plagiarize; this will not attract customers to you and your products/services.\n",
      "\n",
      "A quick search for the top ice cream shops in town will produce taglines such as:\n",
      "\n",
      "“Life’s short, eat ice cream first.”\n",
      "\n",
      "“Flavors that make you smile.”\n",
      "\n",
      "“1 scoop, 2 scoop, 3 scoop, more…”\n",
      "\n",
      "“Indulge in a spoonful of heaven.”\n",
      "\n",
      "“Where every scoop is an adventure.”\n",
      "\n",
      "Upon assessing and examining the above taglines, you can create your own tagline that will represent your products/services and company entirely. Be creative and original when producing taglines, as they are associated with your company.\n",
      "\n",
      "What about SEO?\n",
      "\n",
      "When creating a tagline, you want it short and to the point. However, if you don’t have the most relevant and popular keywords within the tagline, it will most likely not show up on search engines. For example, if you’re creating taglines for fashion-related items and you have the keywords of ‘Fashion,’ ‘Style,’ or ‘Clothes,’ included within the tagline those keywords will be associated with your company. This will allow you to rank higher within the online search engines.\n",
      "\n",
      "Some SEO-relevant taglines for the fashion industry include:\n",
      "\n",
      "“A new way to wear post-modern style”\n",
      "\n",
      "“Fierce fashion for unbeatable design”\n",
      "\n",
      "“Uniquely designed with tomorrow’s style in mind”\n",
      "\n",
      "“Where style meets affordability”\n",
      "\n",
      "“A shoe for every foot, every style”\n",
      "\n",
      "Conclusion\n",
      "\n",
      "Creating a tagline for your company can aid in your online presence, your overall voice, and representation of your company’s values and mission. This can ultimately create a customer’s first impression of your business when they see or hear your brand.\n",
      "\n",
      "When creating taglines, remember to keep it simple, concise, creative, and original. Additionally, you want to ensure it uses strong keywords central to your business to get higher rankings on Google searches.\n",
      "\n",
      "Article by: Angelene Chandrasekran\n",
      "\n",
      "We live in a world driven by data and the smallest of details that, if well-crafted, can change the course of companies...\n",
      "\n",
      "Sometimes, dog owners experience having their dogs run around the neighborhood hours on end. Which, if you are not an avid...\n"
     ]
    }
   ],
   "source": [
    "import sys\n",
    "for resp in openai.Completion.create(engine='gpt-35-turbo', prompt='Give me 5 taglines for an ice cream shop', max_tokens=512, stream=True):\n",
    "    sys.stdout.write(resp.choices[0].text)\n",
    "    sys.stdout.flush()"
   ]
  },
  {
   "cell_type": "markdown",
   "metadata": {},
   "source": [
    "Test if Local embedding model work:"
   ]
  },
  {
   "cell_type": "code",
   "execution_count": 6,
   "metadata": {},
   "outputs": [
    {
     "name": "stdout",
     "output_type": "stream",
     "text": [
      "Got embeddings with shape (1, 384)\n"
     ]
    }
   ],
   "source": [
    "from sentence_transformers import SentenceTransformer\n",
    "\n",
    "sentences = ['Hello World!']\n",
    "model = SentenceTransformer('sentence-transformers/all-MiniLM-L6-v2')\n",
    "embeddings = model.encode(sentences)\n",
    "print(f\"Got embeddings with shape {embeddings.shape}\")\n"
   ]
  },
  {
   "attachments": {},
   "cell_type": "markdown",
   "metadata": {},
   "source": [
    "Test if OpenAI (remote) embeddings work:"
   ]
  },
  {
   "cell_type": "code",
   "execution_count": 10,
   "metadata": {},
   "outputs": [
    {
     "name": "stdout",
     "output_type": "stream",
     "text": [
      "Full response keys from embedding dict_keys(['object', 'data', 'model', 'usage'])\n",
      "Embedding [0.00239680171944201, 0.0003746476140804589, -0.0021421907003968954, -0.025725148618221283, -0.011554941534996033, 0.00099094002507627, -0.014635421335697174, 0.0034451077226549387, 9.989948011934757e-05, -0.027736889198422432] ...\n"
     ]
    }
   ],
   "source": [
    "#Use it only once and then the local embeddings.\n",
    "response = openai.Embedding.create(input=\"Hello World!\", engine=EMBEDDING_MODEL)\n",
    "print(\"Full response keys from embedding\", response.keys())\n",
    "\n",
    "e = response[\"data\"][0][\"embedding\"]\n",
    "print(\"Embedding\", e[:10], \"...\") # Print only first 10 values\n"
   ]
  }
 ],
 "metadata": {
  "kernelspec": {
   "display_name": "openai-qna-env",
   "language": "python",
   "name": "python3"
  },
  "language_info": {
   "codemirror_mode": {
    "name": "ipython",
    "version": 3
   },
   "file_extension": ".py",
   "mimetype": "text/x-python",
   "name": "python",
   "nbconvert_exporter": "python",
   "pygments_lexer": "ipython3",
   "version": "3.9.18"
  },
  "orig_nbformat": 4,
  "vscode": {
   "interpreter": {
    "hash": "c4ee1bbf3137c7ea9420c4fd488a55642063e5739fe2a7286130d9ba47405b69"
   }
  }
 },
 "nbformat": 4,
 "nbformat_minor": 2
}
