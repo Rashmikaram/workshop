{
 "cells": [
  {
   "cell_type": "markdown",
   "metadata": {},
   "source": [
    "# Using Local Sentence Embeddings to save API calls.\n",
    "We can download a pre-trained embedding model and run it locally. This can save a lot of time of money and time.\n"
   ]
  },
  {
   "cell_type": "code",
   "execution_count": null,
   "metadata": {},
   "outputs": [],
   "source": [
    "!pip install sentence-transformers"
   ]
  },
  {
   "cell_type": "code",
   "execution_count": 10,
   "metadata": {},
   "outputs": [
    {
     "name": "stdout",
     "output_type": "stream",
     "text": [
      "Got embeddings with shape (2, 384)\n"
     ]
    }
   ],
   "source": [
    "from sentence_transformers import SentenceTransformer\n",
    "\n",
    "sentences = [\n",
    "    \"Love good things and all humans, animals and be kind to the nature\", \n",
    "    \"!@#$%^&*() 123 technical math equations artificial intelligence \"\n",
    "]\n",
    "\n",
    "model = SentenceTransformer('sentence-transformers/all-MiniLM-L6-v2')\n",
    "embeddings = model.encode(sentences)\n",
    "print(f\"Got embeddings with shape {embeddings.shape}\")"
   ]
  },
  {
   "cell_type": "code",
   "execution_count": 2,
   "metadata": {},
   "outputs": [
    {
     "ename": "NameError",
     "evalue": "name 'e' is not defined",
     "output_type": "error",
     "traceback": [
      "\u001b[0;31m---------------------------------------------------------------------------\u001b[0m",
      "\u001b[0;31mNameError\u001b[0m                                 Traceback (most recent call last)",
      "\u001b[1;32m/Users/ishay/projects/azure-openai-in-a-day-workshop/exercises/03_using_a_local_embedder.ipynb Cell 4\u001b[0m line \u001b[0;36m4\n\u001b[1;32m      <a href='vscode-notebook-cell:/Users/ishay/projects/azure-openai-in-a-day-workshop/exercises/03_using_a_local_embedder.ipynb#W3sZmlsZQ%3D%3D?line=0'>1</a>\u001b[0m \u001b[39mfrom\u001b[39;00m \u001b[39mmatplotlib\u001b[39;00m\u001b[39m.\u001b[39;00m\u001b[39mpylab\u001b[39;00m \u001b[39mimport\u001b[39;00m plot, title, legend, show\n\u001b[1;32m      <a href='vscode-notebook-cell:/Users/ishay/projects/azure-openai-in-a-day-workshop/exercises/03_using_a_local_embedder.ipynb#W3sZmlsZQ%3D%3D?line=1'>2</a>\u001b[0m \u001b[39mimport\u001b[39;00m \u001b[39mnumpy\u001b[39;00m \u001b[39mas\u001b[39;00m \u001b[39mnp\u001b[39;00m\n\u001b[0;32m----> <a href='vscode-notebook-cell:/Users/ishay/projects/azure-openai-in-a-day-workshop/exercises/03_using_a_local_embedder.ipynb#W3sZmlsZQ%3D%3D?line=3'>4</a>\u001b[0m distance \u001b[39m=\u001b[39m np\u001b[39m.\u001b[39mabs(e)\u001b[39m.\u001b[39mdiff(axis\u001b[39m=\u001b[39m\u001b[39m0\u001b[39m)\u001b[39m.\u001b[39msum()\n\u001b[1;32m      <a href='vscode-notebook-cell:/Users/ishay/projects/azure-openai-in-a-day-workshop/exercises/03_using_a_local_embedder.ipynb#W3sZmlsZQ%3D%3D?line=4'>5</a>\u001b[0m \u001b[39mfor\u001b[39;00m e, text \u001b[39min\u001b[39;00m \u001b[39mzip\u001b[39m(embeddings, sentences):\n\u001b[1;32m      <a href='vscode-notebook-cell:/Users/ishay/projects/azure-openai-in-a-day-workshop/exercises/03_using_a_local_embedder.ipynb#W3sZmlsZQ%3D%3D?line=5'>6</a>\u001b[0m     plot(e, label\u001b[39m=\u001b[39mtext[:\u001b[39m16\u001b[39m])\n",
      "\u001b[0;31mNameError\u001b[0m: name 'e' is not defined"
     ]
    }
   ],
   "source": [
    "from matplotlib.pylab import plot, title, legend, show\n",
    "import numpy as np\n",
    "\n",
    "distance = np.abs(embeddings).diff(axis=0).sum()\n",
    "for e, text in zip(embeddings, sentences):\n",
    "    plot(e, label=text[:16])\n",
    "legend()\n",
    "title(f'Embeddings with distance {distance}')\n",
    "show()"
   ]
  }
 ],
 "metadata": {
  "kernelspec": {
   "display_name": "venv",
   "language": "python",
   "name": "python3"
  },
  "language_info": {
   "codemirror_mode": {
    "name": "ipython",
    "version": 3
   },
   "file_extension": ".py",
   "mimetype": "text/x-python",
   "name": "python",
   "nbconvert_exporter": "python",
   "pygments_lexer": "ipython3",
   "version": "3.9.6"
  },
  "orig_nbformat": 4
 },
 "nbformat": 4,
 "nbformat_minor": 2
}
